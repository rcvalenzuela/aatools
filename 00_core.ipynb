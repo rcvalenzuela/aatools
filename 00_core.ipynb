{
 "cells": [
  {
   "cell_type": "markdown",
   "metadata": {},
   "source": [
    "# core\n",
    "\n",
    "> Fill in a module description here"
   ]
  },
  {
   "cell_type": "code",
   "execution_count": null,
   "metadata": {},
   "outputs": [],
   "source": [
    "#| default_exp core"
   ]
  },
  {
   "cell_type": "code",
   "execution_count": null,
   "metadata": {},
   "outputs": [],
   "source": [
    "#| hide\n",
    "from nbdev.showdoc import *"
   ]
  },
  {
   "cell_type": "code",
   "execution_count": null,
   "metadata": {},
   "outputs": [
    {
     "name": "stderr",
     "output_type": "stream",
     "text": [
      "/home/renevalenzuela/anaconda3/envs/aatools/lib/python3.10/site-packages/scipy/__init__.py:146: UserWarning: A NumPy version >=1.16.5 and <1.23.0 is required for this version of SciPy (detected version 1.23.1\n",
      "  warnings.warn(f\"A NumPy version >={np_minversion} and <{np_maxversion}\"\n"
     ]
    }
   ],
   "source": [
    "#| export\n",
    "import numpy as np\n",
    "import pandas as pd\n",
    "import matplotlib.pyplot as plt\n",
    "import seaborn as sns\n",
    "import networkx as nx\n",
    "import sklearn.feature_selection as skfl"
   ]
  },
  {
   "cell_type": "markdown",
   "metadata": {},
   "source": [
    "We first download the [diamonds](https://ggplot2.tidyverse.org/reference/diamonds.html) data from seaborn"
   ]
  },
  {
   "cell_type": "code",
   "execution_count": null,
   "metadata": {},
   "outputs": [
    {
     "data": {
      "text/html": [
       "<div>\n",
       "<style scoped>\n",
       "    .dataframe tbody tr th:only-of-type {\n",
       "        vertical-align: middle;\n",
       "    }\n",
       "\n",
       "    .dataframe tbody tr th {\n",
       "        vertical-align: top;\n",
       "    }\n",
       "\n",
       "    .dataframe thead th {\n",
       "        text-align: right;\n",
       "    }\n",
       "</style>\n",
       "<table border=\"1\" class=\"dataframe\">\n",
       "  <thead>\n",
       "    <tr style=\"text-align: right;\">\n",
       "      <th></th>\n",
       "      <th>carat</th>\n",
       "      <th>cut</th>\n",
       "      <th>color</th>\n",
       "      <th>clarity</th>\n",
       "      <th>depth</th>\n",
       "      <th>table</th>\n",
       "      <th>price</th>\n",
       "      <th>x</th>\n",
       "      <th>y</th>\n",
       "      <th>z</th>\n",
       "    </tr>\n",
       "  </thead>\n",
       "  <tbody>\n",
       "    <tr>\n",
       "      <th>0</th>\n",
       "      <td>0.23</td>\n",
       "      <td>Ideal</td>\n",
       "      <td>E</td>\n",
       "      <td>SI2</td>\n",
       "      <td>61.5</td>\n",
       "      <td>55.0</td>\n",
       "      <td>326</td>\n",
       "      <td>3.95</td>\n",
       "      <td>3.98</td>\n",
       "      <td>2.43</td>\n",
       "    </tr>\n",
       "    <tr>\n",
       "      <th>1</th>\n",
       "      <td>0.21</td>\n",
       "      <td>Premium</td>\n",
       "      <td>E</td>\n",
       "      <td>SI1</td>\n",
       "      <td>59.8</td>\n",
       "      <td>61.0</td>\n",
       "      <td>326</td>\n",
       "      <td>3.89</td>\n",
       "      <td>3.84</td>\n",
       "      <td>2.31</td>\n",
       "    </tr>\n",
       "    <tr>\n",
       "      <th>2</th>\n",
       "      <td>0.23</td>\n",
       "      <td>Good</td>\n",
       "      <td>E</td>\n",
       "      <td>VS1</td>\n",
       "      <td>56.9</td>\n",
       "      <td>65.0</td>\n",
       "      <td>327</td>\n",
       "      <td>4.05</td>\n",
       "      <td>4.07</td>\n",
       "      <td>2.31</td>\n",
       "    </tr>\n",
       "    <tr>\n",
       "      <th>3</th>\n",
       "      <td>0.29</td>\n",
       "      <td>Premium</td>\n",
       "      <td>I</td>\n",
       "      <td>VS2</td>\n",
       "      <td>62.4</td>\n",
       "      <td>58.0</td>\n",
       "      <td>334</td>\n",
       "      <td>4.20</td>\n",
       "      <td>4.23</td>\n",
       "      <td>2.63</td>\n",
       "    </tr>\n",
       "    <tr>\n",
       "      <th>4</th>\n",
       "      <td>0.31</td>\n",
       "      <td>Good</td>\n",
       "      <td>J</td>\n",
       "      <td>SI2</td>\n",
       "      <td>63.3</td>\n",
       "      <td>58.0</td>\n",
       "      <td>335</td>\n",
       "      <td>4.34</td>\n",
       "      <td>4.35</td>\n",
       "      <td>2.75</td>\n",
       "    </tr>\n",
       "  </tbody>\n",
       "</table>\n",
       "</div>"
      ],
      "text/plain": [
       "   carat      cut color clarity  depth  table  price     x     y     z\n",
       "0   0.23    Ideal     E     SI2   61.5   55.0    326  3.95  3.98  2.43\n",
       "1   0.21  Premium     E     SI1   59.8   61.0    326  3.89  3.84  2.31\n",
       "2   0.23     Good     E     VS1   56.9   65.0    327  4.05  4.07  2.31\n",
       "3   0.29  Premium     I     VS2   62.4   58.0    334  4.20  4.23  2.63\n",
       "4   0.31     Good     J     SI2   63.3   58.0    335  4.34  4.35  2.75"
      ]
     },
     "execution_count": null,
     "metadata": {},
     "output_type": "execute_result"
    }
   ],
   "source": [
    "diamonds = sns.load_dataset('diamonds')\n",
    "diamonds.head()"
   ]
  },
  {
   "cell_type": "markdown",
   "metadata": {},
   "source": [
    "By level of measurement, the variables can be classified as,"
   ]
  },
  {
   "cell_type": "code",
   "execution_count": null,
   "metadata": {},
   "outputs": [],
   "source": [
    "diamonds_ratio = ['carat', 'depth', 'table', 'price', 'x', 'y', 'z']\n",
    "diamonds_ordinal = ['cut', 'color', 'clarity']"
   ]
  },
  {
   "cell_type": "markdown",
   "metadata": {},
   "source": [
    "Each of the ordinal features have the following categories ordered from best to worst,"
   ]
  },
  {
   "cell_type": "code",
   "execution_count": null,
   "metadata": {},
   "outputs": [
    {
     "name": "stdout",
     "output_type": "stream",
     "text": [
      "Categories in cut:\n",
      "['Ideal', 'Premium', 'Good', 'Very Good', 'Fair']\n",
      "Categories (5, object): ['Ideal', 'Premium', 'Very Good', 'Good', 'Fair']\n",
      "\n",
      "\n",
      "Categories in color:\n",
      "['E', 'I', 'J', 'H', 'F', 'G', 'D']\n",
      "Categories (7, object): ['D', 'E', 'F', 'G', 'H', 'I', 'J']\n",
      "\n",
      "\n",
      "Categories in clarity:\n",
      "['SI2', 'SI1', 'VS1', 'VS2', 'VVS2', 'VVS1', 'I1', 'IF']\n",
      "Categories (8, object): ['IF', 'VVS1', 'VVS2', 'VS1', 'VS2', 'SI1', 'SI2', 'I1']\n",
      "\n",
      "\n"
     ]
    }
   ],
   "source": [
    "for feat in diamonds_ordinal:\n",
    "    print(f'Categories in {feat}:')\n",
    "    print(diamonds[feat].unique())\n",
    "    print('\\n')"
   ]
  },
  {
   "cell_type": "markdown",
   "metadata": {},
   "source": [
    "A density plot of the carat weight is"
   ]
  },
  {
   "cell_type": "code",
   "execution_count": null,
   "metadata": {},
   "outputs": [
    {
     "data": {
      "image/png": "[encoded data removed]",
      "text/plain": [
       "<Figure size 432x288 with 1 Axes>"
      ]
     },
     "metadata": {
      "needs_background": "light"
     },
     "output_type": "display_data"
    }
   ],
   "source": [
    "sns.kdeplot(data=diamonds, x='carat');"
   ]
  },
  {
   "cell_type": "markdown",
   "metadata": {},
   "source": [
    "## Univariate analysis"
   ]
  },
  {
   "cell_type": "code",
   "execution_count": null,
   "metadata": {},
   "outputs": [],
   "source": [
    "#| export\n",
    "def plot_univariate_continuous(df:pd.DataFrame, # Data\n",
    "                               var:str, # Variable to plot\n",
    "                               var_name:str, # Variable name\n",
    "                               ax): # Axes on which to draw the plot\n",
    "   \n",
    "    ## Calculate the quantiles\n",
    "    df_plot = df[[var]].copy()\n",
    "    df_plot['qcut'] = pd.qcut(df_plot[var], [0, 0.25, 0.75, 1], labels=['1st', 'iqr', '4th'])\n",
    "   \n",
    "    # Define the plaette\n",
    "    # color palette as dictionary\n",
    "    palette = {\"1st\":\"silver\",\n",
    "               \"iqr\":\"gold\",\n",
    "               \"4th\":\"silver\"}\n",
    "   \n",
    "    # Create a density plot\n",
    "    sns.histplot(data=df_plot,\n",
    "                 x=var,\n",
    "                 stat='percent',\n",
    "                 ax=ax,\n",
    "                 hue='qcut',\n",
    "                 multiple='stack',\n",
    "                 palette=palette)\n",
    "   \n",
    "   \n",
    "    # Remove legend\n",
    "    ax.get_legend().remove()\n",
    "   \n",
    "    # Add a vertical line at the mean\n",
    "    var_mean = df[var].mean()\n",
    "   \n",
    "    ax.axvline(var_mean)\n",
    "   \n",
    "    # Add labels\n",
    "    ax.set_xlabel(var_name, fontfamily='Century Gothic', fontsize=16)\n",
    "    ax.set_ylabel('Percent', fontfamily='Century Gothic', fontsize=16)\n",
    "   \n",
    "    # Set tick font size\n",
    "    for label in (ax.get_xticklabels() + ax.get_yticklabels()):\n",
    "        label.set_name('Century Gothic')\n",
    "        label.set_size(12)\n",
    "   \n",
    "    return ax"
   ]
  },
  {
   "cell_type": "markdown",
   "metadata": {},
   "source": [
    "We create an axis in the whitegrid style and call `plot_univariate_continuous`"
   ]
  },
  {
   "cell_type": "code",
   "execution_count": null,
   "metadata": {},
   "outputs": [
    {
     "name": "stderr",
     "output_type": "stream",
     "text": [
      "findfont: Font family ['Century Gothic'] not found. Falling back to DejaVu Sans.\n",
      "findfont: Font family ['Century Gothic'] not found. Falling back to DejaVu Sans.\n"
     ]
    },
    {
     "data": {
      "image/png": "[encoded data removed]",
      "text/plain": [
       "<Figure size 576x288 with 1 Axes>"
      ]
     },
     "metadata": {},
     "output_type": "display_data"
    }
   ],
   "source": [
    "with sns.axes_style('whitegrid'):\n",
    "    fig, ax = plt.subplots(figsize=(8,4))\n",
    "plot_univariate_continuous(diamonds, 'carat', 'Carat', ax);"
   ]
  },
  {
   "cell_type": "markdown",
   "metadata": {},
   "source": [
    "The resulting figure shows an histogram plot made using `seaborn.histplot` with `stat='percent'`. It includes a vertical line drawn at the mean of the data and uses colors to distiguish three groups: the first quartile, the fourth quartile and the second and third quartile (together)"
   ]
  },
  {
   "cell_type": "markdown",
   "metadata": {},
   "source": [
    "## Bivariate analysis\n",
    "\n",
    "The goal is a fuction that can calculate a measure of dependence between all the features in a given dataset."
   ]
  },
  {
   "cell_type": "code",
   "execution_count": null,
   "metadata": {},
   "outputs": [],
   "source": [
    "#| export\n",
    "def rr_corr(df:pd.DataFrame, # Data\n",
    "            ratio_vars:list): # Columns in `df` with ratio variables\n",
    "    \"\"\"\n",
    "    Correlation between al pairs of ratio variables in `df`\n",
    "    \n",
    "    Uses the `corr` method of `pandas.DataFrame` \n",
    "    \"\"\"\n",
    "    \n",
    "    # Extract ratio variables\n",
    "    df_corr = df[ratio_vars].copy()\n",
    "    \n",
    "    # Calculate the correlation between ratio features in the dataset\n",
    "    df_corr = df.corr()\n",
    "    \n",
    "    # Reshape into a table removing redundant pairs\n",
    "    df_corr = df_corr.where(np.triu(np.ones(df_corr.shape), 1).astype(bool))\n",
    "    df_corr = df_corr.stack().reset_index()\n",
    "    df_corr.columns = ['feat_1', 'feat_2', 'corr']\n",
    "    \n",
    "    # Absolute value of correlation is used since we only searh for association\n",
    "    df_corr['abs_corr'] = df_corr['corr'].abs()\n",
    "    \n",
    "    return df_corr.sort_values('abs_corr', ascending=False)"
   ]
  },
  {
   "cell_type": "markdown",
   "metadata": {},
   "source": [
    "We say a variable has a ratio [level of measurement](https://en.wikipedia.org/wiki/Level_of_measurement) if it is a  variable for which ratios are meaningful. Ratio variables have all the properties of interval variables plus a real absolute zero.\n",
    "\n",
    "For the diamonds dataset we have"
   ]
  },
  {
   "cell_type": "code",
   "execution_count": null,
   "metadata": {},
   "outputs": [
    {
     "data": {
      "text/html": [
       "<div>\n",
       "<style scoped>\n",
       "    .dataframe tbody tr th:only-of-type {\n",
       "        vertical-align: middle;\n",
       "    }\n",
       "\n",
       "    .dataframe tbody tr th {\n",
       "        vertical-align: top;\n",
       "    }\n",
       "\n",
       "    .dataframe thead th {\n",
       "        text-align: right;\n",
       "    }\n",
       "</style>\n",
       "<table border=\"1\" class=\"dataframe\">\n",
       "  <thead>\n",
       "    <tr style=\"text-align: right;\">\n",
       "      <th></th>\n",
       "      <th>feat_1</th>\n",
       "      <th>feat_2</th>\n",
       "      <th>corr</th>\n",
       "      <th>abs_corr</th>\n",
       "    </tr>\n",
       "  </thead>\n",
       "  <tbody>\n",
       "    <tr>\n",
       "      <th>3</th>\n",
       "      <td>carat</td>\n",
       "      <td>x</td>\n",
       "      <td>0.975094</td>\n",
       "      <td>0.975094</td>\n",
       "    </tr>\n",
       "    <tr>\n",
       "      <th>18</th>\n",
       "      <td>x</td>\n",
       "      <td>y</td>\n",
       "      <td>0.974701</td>\n",
       "      <td>0.974701</td>\n",
       "    </tr>\n",
       "    <tr>\n",
       "      <th>19</th>\n",
       "      <td>x</td>\n",
       "      <td>z</td>\n",
       "      <td>0.970772</td>\n",
       "      <td>0.970772</td>\n",
       "    </tr>\n",
       "    <tr>\n",
       "      <th>5</th>\n",
       "      <td>carat</td>\n",
       "      <td>z</td>\n",
       "      <td>0.953387</td>\n",
       "      <td>0.953387</td>\n",
       "    </tr>\n",
       "    <tr>\n",
       "      <th>20</th>\n",
       "      <td>y</td>\n",
       "      <td>z</td>\n",
       "      <td>0.952006</td>\n",
       "      <td>0.952006</td>\n",
       "    </tr>\n",
       "  </tbody>\n",
       "</table>\n",
       "</div>"
      ],
      "text/plain": [
       "   feat_1 feat_2      corr  abs_corr\n",
       "3   carat      x  0.975094  0.975094\n",
       "18      x      y  0.974701  0.974701\n",
       "19      x      z  0.970772  0.970772\n",
       "5   carat      z  0.953387  0.953387\n",
       "20      y      z  0.952006  0.952006"
      ]
     },
     "execution_count": null,
     "metadata": {},
     "output_type": "execute_result"
    }
   ],
   "source": [
    "diamonds_rcorr = rr_corr(diamonds, diamonds_ratio)\n",
    "diamonds_rcorr.head()"
   ]
  },
  {
   "cell_type": "markdown",
   "metadata": {},
   "source": [
    "`rr_corr` returns the correlation between each of the `n (n - 1) / 2` pair of variables where `n` is the number of ratio variables"
   ]
  },
  {
   "cell_type": "code",
   "execution_count": null,
   "metadata": {},
   "outputs": [],
   "source": [
    "assert len(diamonds_rcorr.index) == 21"
   ]
  },
  {
   "cell_type": "code",
   "execution_count": null,
   "metadata": {},
   "outputs": [],
   "source": [
    "#| hide\n",
    "def rb_corr(df:pd.DataFrame, # Data\n",
    "            ratio_vars:list, # Columns in `df` with ratio variables\n",
    "            binary_vars:list): # Columns in `df` with 2-level nominal variables (i.e. binary)\n",
    "    \n",
    "    bin_feat = df[binary_vars].copy()"
   ]
  },
  {
   "cell_type": "code",
   "execution_count": null,
   "metadata": {},
   "outputs": [],
   "source": [
    "#| hide\n",
    "def ro_corr(df:pd.DataFrame, # Data\n",
    "            ratio_vars:list, # Columns in `df` with ratio variables\n",
    "            ordinal_vars:list): # Columns in `df` with ordinal variables\n",
    "    \"\"\"\n",
    "    \n",
    "    All the ordinal variables must have an ordered category dtype\n",
    "    \"\"\"\n",
    "    for ov in ordinal_vars:\n",
    "        if not df[ov].cat.ordered:\n",
    "            raise TypeError(f'{ov} is not ordered')\n",
    "    "
   ]
  },
  {
   "cell_type": "code",
   "execution_count": null,
   "metadata": {},
   "outputs": [],
   "source": [
    "#| hide\n",
    "#ro_corr(diamonds, diamonds_ratio, diamonds_ordinal)"
   ]
  },
  {
   "cell_type": "code",
   "execution_count": null,
   "metadata": {},
   "outputs": [],
   "source": [
    "#| export\n",
    "def corr_graph(cdf:pd.DataFrame, # A dataframe as output by `ratio_corr`\n",
    "               abs_corr_threshold:float = 0.5): # Threshold for high correlation\n",
    "        \n",
    "    # Filter values below `abs_corr_threshold`\n",
    "    high_corr = cdf[cdf.abs_corr >= abs_corr_threshold].copy()\n",
    "    \n",
    "    # Sort for visualization\n",
    "    high_corr = high_corr.sort_values(['abs_corr', 'feat_1', 'feat_2'], ascending=False)\n",
    "    \n",
    "    # Generate the graph\n",
    "    corr_graph = nx.from_pandas_edgelist(high_corr, 'feat_1', 'feat_2')\n",
    "    for node in corr_graph.nodes():\n",
    "        corr_graph.nodes[node]['label'] = node\n",
    "            \n",
    "    return high_corr, corr_graph"
   ]
  },
  {
   "cell_type": "code",
   "execution_count": null,
   "metadata": {},
   "outputs": [],
   "source": [
    "diamonds_high_corr, diamonds_corr_graph = corr_graph(diamonds_rcorr)"
   ]
  },
  {
   "cell_type": "code",
   "execution_count": null,
   "metadata": {},
   "outputs": [
    {
     "data": {
      "image/png": "[encoded data removed]",
      "text/plain": [
       "<Figure size 432x288 with 1 Axes>"
      ]
     },
     "metadata": {},
     "output_type": "display_data"
    }
   ],
   "source": [
    "nx.draw(diamonds_corr_graph, with_labels=True)"
   ]
  },
  {
   "cell_type": "code",
   "execution_count": null,
   "metadata": {},
   "outputs": [],
   "source": [
    "#| hide\n",
    "def continuous_mi(df:pd.DataFrame): # Data\n",
    "    \n",
    "    # Keep only numeric variables\n",
    "    num_df = df.select_dtypes(include=[np.number]).copy()\n",
    "    \n",
    "    # Define the variables\n",
    "    feats = num_df.columns.to_list()\n",
    "    \n",
    "    # Initialize\n",
    "    dfs = list()\n",
    "    \n",
    "    for feat in feats:\n",
    "        # Define columns to use\n",
    "        subset_feat = feats.copy()\n",
    "        #subset_feat.remove(feat)\n",
    "        X = num_df[subset_feat].copy()\n",
    "        y = num_df[feat].ravel()\n",
    "        \n",
    "        mi_Xy = skfl.mutual_info_regression(X, y)\n",
    "        \n",
    "        dfi = pd.DataFrame(data={'feat_1':subset_feat, 'feat_2':feat, 'mutual_info':mi_Xy})\n",
    "        dfs.append(dfi)\n",
    "        \n",
    "    return pd.concat(dfs)\n",
    "    \n",
    "    "
   ]
  },
  {
   "cell_type": "code",
   "execution_count": null,
   "metadata": {},
   "outputs": [],
   "source": [
    "#| hide\n",
    "import nbdev; nbdev.nbdev_export()"
   ]
  }
 ],
 "metadata": {
  "kernelspec": {
   "display_name": "Python 3 (ipykernel)",
   "language": "python",
   "name": "python3"
  }
 },
 "nbformat": 4,
 "nbformat_minor": 4
}
