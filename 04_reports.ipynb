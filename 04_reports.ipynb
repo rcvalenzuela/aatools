{
 "cells": [
  {
   "cell_type": "markdown",
   "metadata": {},
   "source": [
    "# reports\n",
    "\n",
    "> The reports module offers a set of functions for the automatic generation of reports written as .qmd files"
   ]
  },
  {
   "cell_type": "code",
   "execution_count": 1,
   "metadata": {},
   "outputs": [],
   "source": [
    "#| default_exp reports"
   ]
  },
  {
   "cell_type": "code",
   "execution_count": 2,
   "metadata": {},
   "outputs": [],
   "source": [
    "#| hide\n",
    "from nbdev.showdoc import *"
   ]
  },
  {
   "cell_type": "code",
   "execution_count": 7,
   "metadata": {},
   "outputs": [],
   "source": [
    "#| hide\n",
    "import pandas as pd\n",
    "import re"
   ]
  },
  {
   "cell_type": "code",
   "execution_count": 27,
   "metadata": {},
   "outputs": [],
   "source": [
    "#| export\n",
    "\n",
    "def create_qmd_header(title:str  # Title of the document\n",
    "                     )->str:     # yaml header qmd file\n",
    "    \n",
    "    header = f'''---\n",
    "                 title: \"{title}\"\n",
    "                 format:\n",
    "                     html:\n",
    "                         code-fold: true\n",
    "                 jupyter: python3\n",
    "                 ---'''\n",
    "    \n",
    "    # Improve formatting of the string. \n",
    "    # We remove 17 empty spaces because\n",
    "    header = re.sub(r\"^\\s{17}\", \"\", header, 0, re.MULTILINE)\n",
    "\n",
    "    return header"
   ]
  },
  {
   "cell_type": "markdown",
   "metadata": {},
   "source": [
    "For example if the title is **A basic quarto file** then calling the function will render the following,"
   ]
  },
  {
   "cell_type": "code",
   "execution_count": 28,
   "metadata": {},
   "outputs": [
    {
     "name": "stdout",
     "output_type": "stream",
     "text": [
      "---\n",
      "title: \"A basic quarto file\"\n",
      "format:\n",
      "    html:\n",
      "        code-fold: true\n",
      "jupyter: python3\n",
      "---\n"
     ]
    }
   ],
   "source": [
    "print(create_qmd_header('A basic quarto file'))"
   ]
  },
  {
   "cell_type": "code",
   "execution_count": 29,
   "metadata": {},
   "outputs": [],
   "source": [
    "#| export\n",
    "\n",
    "def eda_report(file_name:str    # Name of the file to be written\n",
    "               abt:ABT          # Analytics based table on which to base the report\n",
    "               )-> None:\n",
    "    # Creates qmd file that when rendered generates EDA report\n",
    "    \n",
    "    with open(file_name, 'w') as f:\n",
    "        # Add yaml header\n",
    "        f.write(create_qmd_header('EDA Report'))\n",
    "\n"
   ]
  },
  {
   "cell_type": "code",
   "execution_count": 30,
   "metadata": {},
   "outputs": [],
   "source": [
    "eda_report('test.qmd')"
   ]
  },
  {
   "cell_type": "code",
   "execution_count": null,
   "metadata": {},
   "outputs": [],
   "source": []
  }
 ],
 "metadata": {
  "kernelspec": {
   "display_name": "aatools",
   "language": "python",
   "name": "python3"
  },
  "language_info": {
   "codemirror_mode": {
    "name": "ipython",
    "version": 3
   },
   "file_extension": ".py",
   "mimetype": "text/x-python",
   "name": "python",
   "nbconvert_exporter": "python",
   "pygments_lexer": "ipython3",
   "version": "3.10.12"
  },
  "orig_nbformat": 4
 },
 "nbformat": 4,
 "nbformat_minor": 2
}
