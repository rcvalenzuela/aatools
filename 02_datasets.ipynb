{
 "cells": [
  {
   "cell_type": "markdown",
   "metadata": {},
   "source": [
    "# datasets\n",
    "\n",
    "> The datasets module provides auxiliary datasets used to support the package documentation"
   ]
  },
  {
   "cell_type": "code",
   "execution_count": null,
   "metadata": {},
   "outputs": [],
   "source": [
    "#| default_exp datasets"
   ]
  },
  {
   "cell_type": "code",
   "execution_count": null,
   "metadata": {},
   "outputs": [],
   "source": [
    "#| hide\n",
    "from nbdev.showdoc import *"
   ]
  },
  {
   "cell_type": "code",
   "execution_count": null,
   "metadata": {},
   "outputs": [],
   "source": [
    "#| hide\n",
    "\n",
    "import pandas as pd"
   ]
  },
  {
   "cell_type": "markdown",
   "metadata": {},
   "source": [
    "## Transport dataset"
   ]
  },
  {
   "cell_type": "markdown",
   "metadata": {},
   "source": [
    "The [transport](https://www.kaggle.com/datasets/adoumtaiga/transport/download?datasetVersionNumber=1) dataset was originally retrieved from the [Kaggle](https://www.kaggle.com) datasets website. A description of it is available [here](https://www.kaggle.com/datasets/adoumtaiga/transport).\n",
    "\n",
    "> The dataset contains around 50 individuals answers from a questionaire on their means of transport.\n",
    "For each answer we have the Age, Sex, Family Situation, If he has a car, If he has a bike and if he takes public transport\n",
    "\n",
    "There is some information as well on the monthly income of the respondent"
   ]
  },
  {
   "cell_type": "code",
   "execution_count": null,
   "metadata": {},
   "outputs": [],
   "source": [
    "#| export\n",
    "\n",
    "def load_transport():\n",
    "    \"Loads the transport dataset\"\n",
    "    \n",
    "    transport_url = 'https://raw.githubusercontent.com/rcvalenzuela/aatools-data/main/transport.csv'\n",
    "    transport = pd.read_csv(transport_url, sep=';')\n",
    "    transport = transport.drop(['num'], axis=1)\n",
    "    \n",
    "    return transport"
   ]
  },
  {
   "cell_type": "markdown",
   "metadata": {},
   "source": [
    "To load the dataset simply call the function ..."
   ]
  },
  {
   "cell_type": "code",
   "execution_count": null,
   "metadata": {},
   "outputs": [],
   "source": [
    "transport = load_transport()"
   ]
  },
  {
   "cell_type": "code",
   "execution_count": null,
   "metadata": {},
   "outputs": [
    {
     "data": {
      "text/plain": [
       "age          0\n",
       "sexe         7\n",
       "sitfam       0\n",
       "principal    0\n",
       "voiture      4\n",
       "velo         4\n",
       "commun       4\n",
       "revenu       3\n",
       "dtype: int64"
      ]
     },
     "execution_count": null,
     "metadata": {},
     "output_type": "execute_result"
    }
   ],
   "source": [
    "transport.isna().sum()"
   ]
  },
  {
   "cell_type": "code",
   "execution_count": null,
   "metadata": {},
   "outputs": [],
   "source": [
    "#| hide\n",
    "import nbdev; nbdev.nbdev_export()"
   ]
  },
  {
   "cell_type": "code",
   "execution_count": null,
   "metadata": {},
   "outputs": [],
   "source": []
  }
 ],
 "metadata": {
  "kernelspec": {
   "display_name": "Python 3 (ipykernel)",
   "language": "python",
   "name": "python3"
  }
 },
 "nbformat": 4,
 "nbformat_minor": 4
}
